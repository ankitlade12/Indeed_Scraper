{
 "cells": [
  {
   "cell_type": "code",
   "execution_count": null,
   "metadata": {},
   "outputs": [],
   "source": [
    "from bs4 import BeautifulSoup\n",
    "import requests\n",
    "import urllib.parse\n",
    "import csv\n",
    "from datetime import datetime\n",
    "\n",
    "def get_url(position,location,jobtype,dateposted):\n",
    "    template = 'https://www.indeed.com/jobs?q={}&l={}&jt={}&fromage={}'\n",
    "    url = template.format(position,location,jobtype,dateposted)\n",
    "    return url\n",
    "\n",
    "def get_record(card):\n",
    "    atag = card.h2.a\n",
    "    try:\n",
    "        job_title = atag.get('title')\n",
    "    except AttributeError:\n",
    "        job_title = ''\n",
    "    job_url = 'https://www.indeed.com' + atag.get('href')\n",
    "    try:\n",
    "        company = card.find('span','company').text.strip()\n",
    "    except AttributeError:\n",
    "        company = ''\n",
    "    job_location = card.find('div','recJobLoc').get('data-rc-loc')\n",
    "    job_summary = card.find('div','summary').text.strip()\n",
    "    post_date = card.find('span','date').text\n",
    "    today = datetime.today().strftime('%m-%d-%Y')\n",
    "    try:\n",
    "        job_salary = card.find('span','salaryText').text.strip()\n",
    "    except AttributeError:\n",
    "        job_salary = \"\"\n",
    "    \n",
    "    record = (job_title, company, job_location, post_date, today, job_summary, job_salary, job_url)\n",
    "    \n",
    "    return record\n",
    "\n",
    "def main(position,location,jobtype,dateposted):\n",
    "    records = []\n",
    "    url = get_url(position,location,jobtype,dateposted)\n",
    "    \n",
    "    while True:\n",
    "        response = requests.get(url)\n",
    "        soup = BeautifulSoup(response.text,'html.parser')\n",
    "        cards = soup.find_all('div','jobsearch-SerpJobCard')\n",
    "        \n",
    "        for card in cards:\n",
    "            record = get_record(card)\n",
    "            records.append(record)\n",
    "        try:\n",
    "            url = 'https://www.indeed.com' + soup.find('a',{\"aria-label\":\"Next\"}).get('href')\n",
    "        except AttributeError:\n",
    "            break\n",
    "    #Replace file name every time to save new records        \n",
    "    with open('results.csv', 'w', newline='', encoding='utf-8') as f:\n",
    "        writer = csv.writer(f)\n",
    "        writer.writerow(['Title', 'Company', 'Location', 'PostDate', 'ExtractDate', 'Summary', 'Salary', 'JobUrl'])\n",
    "        writer.writerows(records)"
   ]
  },
  {
   "cell_type": "code",
   "execution_count": null,
   "metadata": {},
   "outputs": [],
   "source": [
    "#Field 1: Position\n",
    "#Field 2: Location\n",
    "#Field 3: Full Time / Internship\n",
    "#Field 4: 1 = Last 24 hours, 3 = Last 3 days, 7 = Last 7 days, 14 = Last 14 days, last = Since your last visit\n",
    "main('data science','united states','internship','1')"
   ]
  },
  {
   "cell_type": "code",
   "execution_count": null,
   "metadata": {},
   "outputs": [],
   "source": []
  }
 ],
 "metadata": {
  "kernelspec": {
   "display_name": "Python 3",
   "language": "python",
   "name": "python3"
  },
  "language_info": {
   "codemirror_mode": {
    "name": "ipython",
    "version": 3
   },
   "file_extension": ".py",
   "mimetype": "text/x-python",
   "name": "python",
   "nbconvert_exporter": "python",
   "pygments_lexer": "ipython3",
   "version": "3.7.7"
  }
 },
 "nbformat": 4,
 "nbformat_minor": 4
}
